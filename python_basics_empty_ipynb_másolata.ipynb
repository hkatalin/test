{
  "nbformat": 4,
  "nbformat_minor": 0,
  "metadata": {
    "colab": {
      "provenance": [],
      "include_colab_link": true
    },
    "kernelspec": {
      "name": "python3",
      "display_name": "Python 3"
    },
    "language_info": {
      "name": "python"
    }
  },
  "cells": [
    {
      "cell_type": "markdown",
      "metadata": {
        "id": "view-in-github",
        "colab_type": "text"
      },
      "source": [
        "<a href=\"https://colab.research.google.com/github/hkatalin/test/blob/main/python_basics_empty_ipynb_m%C3%A1solata.ipynb\" target=\"_parent\"><img src=\"https://colab.research.google.com/assets/colab-badge.svg\" alt=\"Open In Colab\"/></a>"
      ]
    },
    {
      "cell_type": "markdown",
      "source": [
        "## Creating a list"
      ],
      "metadata": {
        "id": "5w-uO_oGLpBw"
      }
    },
    {
      "cell_type": "code",
      "source": [
        "mylist=[1,2,3,4,5]"
      ],
      "metadata": {
        "id": "VOQrYh7qLv19"
      },
      "execution_count": null,
      "outputs": []
    },
    {
      "cell_type": "code",
      "source": [
        "mylist_1=[]\n",
        "#add some values to the list\n",
        "mylist_1.append(1)\n"
      ],
      "metadata": {
        "id": "LxcpioyJNaVR"
      },
      "execution_count": null,
      "outputs": []
    },
    {
      "cell_type": "code",
      "source": [
        "print(mylist_1)"
      ],
      "metadata": {
        "id": "o3xHnJQWL-8T",
        "colab": {
          "base_uri": "https://localhost:8080/"
        },
        "outputId": "452807db-eebe-436e-e2f8-8b9f46dfbbf7"
      },
      "execution_count": null,
      "outputs": [
        {
          "output_type": "stream",
          "name": "stdout",
          "text": [
            "[1]\n"
          ]
        }
      ]
    },
    {
      "cell_type": "markdown",
      "source": [
        "## Indexing and slicing a list"
      ],
      "metadata": {
        "id": "QIJL26opM2s7"
      }
    },
    {
      "cell_type": "code",
      "source": [
        "c=[1,3,5,2,4,0,10,15,20,22,4,7,8]"
      ],
      "metadata": {
        "id": "t69KzaEvKRrl"
      },
      "execution_count": 67,
      "outputs": []
    },
    {
      "cell_type": "code",
      "source": [
        "#first element in the list\n",
        "print(c[0])"
      ],
      "metadata": {
        "id": "SCVuzd0tLEpf",
        "colab": {
          "base_uri": "https://localhost:8080/"
        },
        "outputId": "35b62b6d-b01b-422a-fc77-72f7f35a77eb"
      },
      "execution_count": null,
      "outputs": [
        {
          "output_type": "stream",
          "name": "stdout",
          "text": [
            "1\n"
          ]
        }
      ]
    },
    {
      "cell_type": "code",
      "source": [
        "#change the fourth element to 3\n",
        "c[3] = 3\n",
        "print(c)"
      ],
      "metadata": {
        "id": "ADpb50W7LGHW",
        "colab": {
          "base_uri": "https://localhost:8080/"
        },
        "outputId": "ef9ad688-5b32-4f7e-9f87-d274c5790c5d"
      },
      "execution_count": null,
      "outputs": [
        {
          "output_type": "stream",
          "name": "stdout",
          "text": [
            "[1, 3, 5, 3, 3, 3, 10, 15, 20, 22, 4, 7, 8]\n"
          ]
        }
      ]
    },
    {
      "cell_type": "code",
      "source": [
        "#print only the first 3 elements of the list\n",
        "print(c[0:3:1])"
      ],
      "metadata": {
        "id": "KqK_EvjpNwLF",
        "colab": {
          "base_uri": "https://localhost:8080/"
        },
        "outputId": "d15648aa-2d45-4602-e027-bb34c031f249"
      },
      "execution_count": null,
      "outputs": [
        {
          "output_type": "stream",
          "name": "stdout",
          "text": [
            "[1, 3, 5]\n"
          ]
        }
      ]
    },
    {
      "cell_type": "markdown",
      "source": [
        "Stepping"
      ],
      "metadata": {
        "id": "8A8y578CYsD7"
      }
    },
    {
      "cell_type": "code",
      "source": [
        "print(c[0:-1:1])"
      ],
      "metadata": {
        "id": "37I26afXZEsR",
        "colab": {
          "base_uri": "https://localhost:8080/"
        },
        "outputId": "42574a3e-2767-4f56-da60-9717fe736948"
      },
      "execution_count": 21,
      "outputs": [
        {
          "output_type": "stream",
          "name": "stdout",
          "text": [
            "[1, 3, 5, 3, 3, 3, 10, 15, 20, 22, 4, 7]\n"
          ]
        }
      ]
    },
    {
      "cell_type": "markdown",
      "source": [
        "Get every second element from the list!"
      ],
      "metadata": {
        "id": "fBJLFzkSwnnn"
      }
    },
    {
      "cell_type": "code",
      "source": [
        "print(c[1:-1:2])"
      ],
      "metadata": {
        "id": "m8Ag6dIGYtNm",
        "colab": {
          "base_uri": "https://localhost:8080/"
        },
        "outputId": "b18bfc4a-6c28-4344-bf7c-5542219dcd79"
      },
      "execution_count": 23,
      "outputs": [
        {
          "output_type": "stream",
          "name": "stdout",
          "text": [
            "[3, 3, 3, 15, 22, 7]\n"
          ]
        }
      ]
    },
    {
      "cell_type": "markdown",
      "source": [
        "Get the elements from the 1st index until the 4th index!"
      ],
      "metadata": {
        "id": "dKRmC77bwusy"
      }
    },
    {
      "cell_type": "code",
      "source": [
        "print(c[1:5:1])"
      ],
      "metadata": {
        "id": "lpyXqW7Zqtws",
        "colab": {
          "base_uri": "https://localhost:8080/"
        },
        "outputId": "0ea0d5fd-0dd9-4d50-d06a-8bb6b851f729"
      },
      "execution_count": 29,
      "outputs": [
        {
          "output_type": "stream",
          "name": "stdout",
          "text": [
            "[3, 5, 3, 3]\n"
          ]
        }
      ]
    },
    {
      "cell_type": "markdown",
      "source": [
        "\n",
        "Get the elements from the 1st index until the 10th index, but only every second element!"
      ],
      "metadata": {
        "id": "KTNm8q8WbClh"
      }
    },
    {
      "cell_type": "code",
      "source": [
        "print(c[1:11:2])"
      ],
      "metadata": {
        "id": "JxEqH5B3D7CW",
        "colab": {
          "base_uri": "https://localhost:8080/"
        },
        "outputId": "4d618cec-3099-4f5c-aa02-073cda5b9269"
      },
      "execution_count": 30,
      "outputs": [
        {
          "output_type": "stream",
          "name": "stdout",
          "text": [
            "[3, 3, 3, 15, 22]\n"
          ]
        }
      ]
    },
    {
      "cell_type": "markdown",
      "source": [
        "Reverse the list!"
      ],
      "metadata": {
        "id": "K_SVyX73WNWP"
      }
    },
    {
      "cell_type": "code",
      "source": [
        "c.reverse()"
      ],
      "metadata": {
        "id": "nJ1NGdgRWRyS"
      },
      "execution_count": 31,
      "outputs": []
    },
    {
      "cell_type": "code",
      "source": [
        "print(c)"
      ],
      "metadata": {
        "id": "eTc4WS3zEPgg",
        "colab": {
          "base_uri": "https://localhost:8080/"
        },
        "outputId": "30b83449-9122-40f5-c856-75f558761466"
      },
      "execution_count": 32,
      "outputs": [
        {
          "output_type": "stream",
          "name": "stdout",
          "text": [
            "[8, 7, 4, 22, 20, 15, 10, 3, 3, 3, 5, 3, 1]\n"
          ]
        }
      ]
    },
    {
      "cell_type": "markdown",
      "source": [
        "Get the 3rd element from behind!"
      ],
      "metadata": {
        "id": "4G2vQtuZWWTk"
      }
    },
    {
      "cell_type": "code",
      "source": [
        "print(c[-3])"
      ],
      "metadata": {
        "id": "FZN195cAWX3c",
        "colab": {
          "base_uri": "https://localhost:8080/"
        },
        "outputId": "1a0468d7-8cdf-49c4-b02c-ca8c13c5aaac"
      },
      "execution_count": 35,
      "outputs": [
        {
          "output_type": "stream",
          "name": "stdout",
          "text": [
            "5\n"
          ]
        }
      ]
    },
    {
      "cell_type": "markdown",
      "source": [
        "## Length of a list"
      ],
      "metadata": {
        "id": "lXSK8OK9Nw8Q"
      }
    },
    {
      "cell_type": "markdown",
      "source": [
        "How do you check the length of the list?"
      ],
      "metadata": {
        "id": "uXi7WpmSWYvd"
      }
    },
    {
      "cell_type": "code",
      "source": [
        "print(c)\n"
      ],
      "metadata": {
        "id": "EjEWMVLtLWYF",
        "colab": {
          "base_uri": "https://localhost:8080/"
        },
        "outputId": "12ad7d22-873e-4bb5-aa4e-48ab9f0bfaf8"
      },
      "execution_count": 41,
      "outputs": [
        {
          "output_type": "stream",
          "name": "stdout",
          "text": [
            "[8, 7, 4, 22, 20, 15, 10, 3, 3, 3, 5, 3, 1]\n"
          ]
        }
      ]
    },
    {
      "cell_type": "markdown",
      "source": [
        "## Iterating through a list"
      ],
      "metadata": {
        "id": "3ZftvrQbNzGD"
      }
    },
    {
      "cell_type": "markdown",
      "source": [
        "Print all elements of c with a for loop!"
      ],
      "metadata": {
        "id": "Bkg_NtTjWeVV"
      }
    },
    {
      "cell_type": "code",
      "source": [
        "for l in c:\n",
        "  print(l)"
      ],
      "metadata": {
        "id": "pnvFb9uYN0uX",
        "colab": {
          "base_uri": "https://localhost:8080/"
        },
        "outputId": "8b356b05-81b4-44ae-b1a1-9460eef7fc06"
      },
      "execution_count": 45,
      "outputs": [
        {
          "output_type": "stream",
          "name": "stdout",
          "text": [
            "8\n",
            "7\n",
            "4\n",
            "22\n",
            "20\n",
            "15\n",
            "10\n",
            "3\n",
            "3\n",
            "3\n",
            "5\n",
            "3\n",
            "1\n"
          ]
        }
      ]
    },
    {
      "cell_type": "markdown",
      "source": [
        "### Write an algorithm to decide whether a list (let's see list \"c\") is monotonically increasing!"
      ],
      "metadata": {
        "id": "1B2UcjDKOK06"
      }
    },
    {
      "cell_type": "code",
      "source": [
        "n = 0\n",
        "for l in c:\n",
        "  if c[0] > c[1]:\n",
        "    print(\"not increasing\")\n",
        "\n",
        "\n",
        "\n"
      ],
      "metadata": {
        "id": "ixEE6RCpJ9PQ",
        "colab": {
          "base_uri": "https://localhost:8080/"
        },
        "outputId": "a9dcf752-c3e4-41f1-ffe0-d4312aec74dc"
      },
      "execution_count": 51,
      "outputs": [
        {
          "output_type": "stream",
          "name": "stdout",
          "text": [
            "not increasing\n",
            "not increasing\n",
            "not increasing\n",
            "not increasing\n",
            "not increasing\n",
            "not increasing\n",
            "not increasing\n",
            "not increasing\n",
            "not increasing\n",
            "not increasing\n",
            "not increasing\n",
            "not increasing\n",
            "not increasing\n"
          ]
        }
      ]
    },
    {
      "cell_type": "markdown",
      "source": [
        "## Lists containing strings"
      ],
      "metadata": {
        "id": "t-9lCKFMmRT9"
      }
    },
    {
      "cell_type": "code",
      "source": [
        "fruits=['apple', 'banana', 'coconut', 'strawberry', 'apricot', 'pear']\n",
        "print(fruits)\n"
      ],
      "metadata": {
        "id": "cshhPUV-N52u",
        "colab": {
          "base_uri": "https://localhost:8080/"
        },
        "outputId": "d7880207-b883-41fd-a095-ff59b43abfcc"
      },
      "execution_count": 49,
      "outputs": [
        {
          "output_type": "stream",
          "name": "stdout",
          "text": [
            "['apple', 'banana', 'coconut', 'strawberry', 'apricot', 'pear']\n"
          ]
        }
      ]
    },
    {
      "cell_type": "markdown",
      "source": [
        "Print all elements!"
      ],
      "metadata": {
        "id": "HXYXypnOWlE8"
      }
    },
    {
      "cell_type": "markdown",
      "source": [
        "## If-else statements"
      ],
      "metadata": {
        "id": "4hAbQ8xVdEYp"
      }
    },
    {
      "cell_type": "markdown",
      "source": [
        "Print the names of the fruits that have an 'e' in their names!"
      ],
      "metadata": {
        "id": "Giye9cWxxEwN"
      }
    },
    {
      "cell_type": "code",
      "source": [
        "for s in fruits:\n",
        "  if \"e\" in s:\n",
        "    print(s)"
      ],
      "metadata": {
        "id": "6ITGJeYxKDeq",
        "colab": {
          "base_uri": "https://localhost:8080/"
        },
        "outputId": "b94984f3-8264-4c70-b1a5-edc850503d05"
      },
      "execution_count": 66,
      "outputs": [
        {
          "output_type": "stream",
          "name": "stdout",
          "text": [
            "apple\n",
            "strawberry\n",
            "pear\n"
          ]
        }
      ]
    },
    {
      "cell_type": "markdown",
      "source": [
        "Remove the elements from the list \"c\" that are even numbers!"
      ],
      "metadata": {
        "id": "26Jsb2CtxJfU"
      }
    },
    {
      "cell_type": "code",
      "source": [
        "for i in c:\n",
        "  if i %2==0:\n",
        "    c.remove(i)\n",
        "    print(i)\n"
      ],
      "metadata": {
        "id": "m2X9VNMCGwhw",
        "colab": {
          "base_uri": "https://localhost:8080/"
        },
        "outputId": "23ae75ae-4bee-4b38-ee58-e66294da8112"
      },
      "execution_count": 69,
      "outputs": [
        {
          "output_type": "stream",
          "name": "stdout",
          "text": [
            "2\n",
            "0\n",
            "20\n",
            "4\n",
            "8\n"
          ]
        }
      ]
    },
    {
      "cell_type": "code",
      "source": [
        "#check the list whether it was succesful\n"
      ],
      "metadata": {
        "id": "XcfVSNdfQt4M"
      },
      "execution_count": 71,
      "outputs": []
    },
    {
      "cell_type": "markdown",
      "source": [
        "## Other built-in list-operations"
      ],
      "metadata": {
        "id": "9o0HYzZ-dVgy"
      }
    },
    {
      "cell_type": "code",
      "source": [
        "#create a random list b\n",
        "b =[0]\n",
        "c.extend(b) #extends c with another list"
      ],
      "metadata": {
        "id": "cB_OdcuwdN0H"
      },
      "execution_count": 74,
      "outputs": []
    },
    {
      "cell_type": "code",
      "source": [
        "c #check whether the extension was succesful"
      ],
      "metadata": {
        "id": "v7hB4X_ke1j6",
        "colab": {
          "base_uri": "https://localhost:8080/"
        },
        "outputId": "31836169-60f7-426a-eede-29e6d582d696"
      },
      "execution_count": 75,
      "outputs": [
        {
          "output_type": "execute_result",
          "data": {
            "text/plain": [
              "[1, 3, 5, 10, 15, 22, 4, 7, 0]"
            ]
          },
          "metadata": {},
          "execution_count": 75
        }
      ]
    },
    {
      "cell_type": "code",
      "source": [
        "#how many 4s are in the list? ( list.count() )\n",
        "x = c.count(4)\n",
        "print(x)"
      ],
      "metadata": {
        "id": "AYOUHhUsdSK9",
        "colab": {
          "base_uri": "https://localhost:8080/"
        },
        "outputId": "d2838e87-08a3-43bc-b8a8-776052737fc6"
      },
      "execution_count": 76,
      "outputs": [
        {
          "output_type": "stream",
          "name": "stdout",
          "text": [
            "1\n"
          ]
        }
      ]
    },
    {
      "cell_type": "code",
      "source": [
        "#the FIRST appearance of the value 0   (   list.index()  )\n",
        "c.index(0)\n"
      ],
      "metadata": {
        "id": "aQDKP8LZetGq"
      },
      "execution_count": null,
      "outputs": []
    },
    {
      "cell_type": "code",
      "source": [
        "#insert number 3 to the 4th index in the list  ( list.insert(WHERE, WHAT) )\n",
        "#check the list"
      ],
      "metadata": {
        "id": "Ny2Zr5cSe70N"
      },
      "execution_count": null,
      "outputs": []
    },
    {
      "cell_type": "code",
      "source": [
        "#remove the element on the LAST index"
      ],
      "metadata": {
        "id": "djyeRtOdfvw3"
      },
      "execution_count": null,
      "outputs": []
    },
    {
      "cell_type": "code",
      "source": [
        "#remove the element on the 3rd index"
      ],
      "metadata": {
        "id": "JvBdzUA3f6R_"
      },
      "execution_count": null,
      "outputs": []
    },
    {
      "cell_type": "markdown",
      "source": [
        "# List comprehension:\n",
        "## A shorter syntax when you want to create a new list based on the values of an existing list"
      ],
      "metadata": {
        "id": "NndRVEWlbo_z"
      }
    },
    {
      "cell_type": "code",
      "source": [
        "#if I wanted to get the half of each element in a list, I could do for example:\n",
        "newlist=[] #store the new values in a new list\n",
        "for i in range (len(c)):\n",
        "  newlist.append(c[i]/2)\n",
        "\n",
        "print(newlist)"
      ],
      "metadata": {
        "id": "hprAKdg4dFVO"
      },
      "execution_count": null,
      "outputs": []
    },
    {
      "cell_type": "code",
      "source": [
        "#or\n",
        "newlist1=[]\n",
        "for number in c:\n",
        "  newlist1.append(number/2)\n",
        "\n",
        "print(newlist1)"
      ],
      "metadata": {
        "id": "Yo8cvs1GdZr6"
      },
      "execution_count": null,
      "outputs": []
    },
    {
      "cell_type": "markdown",
      "source": [
        "With list comprehension:\n",
        "\n",
        "\n",
        "[(***what to return***)   **for** *element*   **in**   *name of the list* ]\n",
        "\n",
        "\n",
        "[(what do i do with the *element*) **for** *element* **in** *name of the list*]"
      ],
      "metadata": {
        "id": "NFIjnwNXgtvV"
      }
    },
    {
      "cell_type": "code",
      "source": [
        "[element/2 for element in c] #take the half of every element\n",
        "\n",
        "#only prints the new list, if I want to create a new list: mylist=[element/2 for element in c]"
      ],
      "metadata": {
        "id": "1l50AknQbnUe"
      },
      "execution_count": null,
      "outputs": []
    },
    {
      "cell_type": "code",
      "source": [
        "new=[element/2 for element in c]"
      ],
      "metadata": {
        "id": "RWLhao_dIcrj"
      },
      "execution_count": null,
      "outputs": []
    },
    {
      "cell_type": "code",
      "source": [
        "[number*2 for number in c] #I can call it anything just like in the for loops"
      ],
      "metadata": {
        "id": "_j05hHZChd07"
      },
      "execution_count": null,
      "outputs": []
    },
    {
      "cell_type": "code",
      "source": [
        "#create a list from letters:\n",
        "mylist_2= [letter for letter in 'thisisasentence']\n",
        "mylist_2"
      ],
      "metadata": {
        "colab": {
          "base_uri": "https://localhost:8080/"
        },
        "id": "9yhUTrM1ftDF",
        "outputId": "ff140184-a1b4-425b-8df7-bf9c0813073c"
      },
      "execution_count": null,
      "outputs": [
        {
          "output_type": "execute_result",
          "data": {
            "text/plain": [
              "['t', 'h', 'i', 's', 'i', 's', 'a', 's', 'e', 'n', 't', 'e', 'n', 'c', 'e']"
            ]
          },
          "metadata": {},
          "execution_count": 49
        }
      ]
    },
    {
      "cell_type": "markdown",
      "source": [
        "We can even add \"if\" statements"
      ],
      "metadata": {
        "id": "knSEQf5Bdz8G"
      }
    },
    {
      "cell_type": "code",
      "source": [
        "[element for element in c if element%2==0] #get the elements in the list \"c\", if the element is an even number"
      ],
      "metadata": {
        "id": "EXqr0KhGdzmZ"
      },
      "execution_count": null,
      "outputs": []
    },
    {
      "cell_type": "code",
      "source": [
        "[fruit for fruit in fruits if 'o' in fruit] #get the elements in the list \"fruits\" if the element contains the letter 'o'"
      ],
      "metadata": {
        "id": "Bo1PPnateDI0"
      },
      "execution_count": null,
      "outputs": []
    },
    {
      "cell_type": "markdown",
      "source": [
        "Create a list based on list \"c\", keep the numbers that are divisible by 3!"
      ],
      "metadata": {
        "id": "P4RqHvFsxkqX"
      }
    },
    {
      "cell_type": "code",
      "source": [],
      "metadata": {
        "id": "adrmUIKgxueo"
      },
      "execution_count": null,
      "outputs": []
    },
    {
      "cell_type": "markdown",
      "source": [
        "Create a list based on the list \"c\", take the second power of every number"
      ],
      "metadata": {
        "id": "MV4tvhJwxtKn"
      }
    },
    {
      "cell_type": "code",
      "source": [],
      "metadata": {
        "id": "Fls5FPK6JCpW"
      },
      "execution_count": null,
      "outputs": []
    },
    {
      "cell_type": "markdown",
      "source": [
        "## *range(x:y)* is an iterable object (that we use in for loops as well)\n",
        "## iterable object: it can be iterated over, with the help of e.g. a for loop"
      ],
      "metadata": {
        "id": "I2mBaoJ8fBNQ"
      }
    },
    {
      "cell_type": "code",
      "source": [
        "range(0,10)"
      ],
      "metadata": {
        "colab": {
          "base_uri": "https://localhost:8080/"
        },
        "id": "UPVrj3Qnf8HP",
        "outputId": "28649804-62f3-421a-8394-1948328b24f0"
      },
      "execution_count": null,
      "outputs": [
        {
          "output_type": "execute_result",
          "data": {
            "text/plain": [
              "range(0, 10)"
            ]
          },
          "metadata": {},
          "execution_count": 54
        }
      ]
    },
    {
      "cell_type": "code",
      "source": [
        "type(range(0,10))"
      ],
      "metadata": {
        "colab": {
          "base_uri": "https://localhost:8080/"
        },
        "id": "OXDP7Y9Ff9ra",
        "outputId": "b8ee125e-983b-4afa-a133-2f418741071b"
      },
      "execution_count": null,
      "outputs": [
        {
          "output_type": "execute_result",
          "data": {
            "text/plain": [
              "range"
            ]
          },
          "metadata": {},
          "execution_count": 55
        }
      ]
    },
    {
      "cell_type": "code",
      "source": [
        "range(0,10)[5]"
      ],
      "metadata": {
        "colab": {
          "base_uri": "https://localhost:8080/"
        },
        "id": "cc_WrJMZgBnC",
        "outputId": "be285d90-500f-42ca-b365-f32872542ac6"
      },
      "execution_count": null,
      "outputs": [
        {
          "output_type": "execute_result",
          "data": {
            "text/plain": [
              "5"
            ]
          },
          "metadata": {},
          "execution_count": 56
        }
      ]
    },
    {
      "cell_type": "code",
      "source": [
        "for element in (range(0,10)): # iterate over the range(0,10)\n",
        "  print(element)"
      ],
      "metadata": {
        "colab": {
          "base_uri": "https://localhost:8080/"
        },
        "id": "fnI8HIrMfLRS",
        "outputId": "05cf09ed-59dc-44c9-8422-9c12bd7a5233"
      },
      "execution_count": null,
      "outputs": [
        {
          "output_type": "stream",
          "name": "stdout",
          "text": [
            "0\n",
            "1\n",
            "2\n",
            "3\n",
            "4\n",
            "5\n",
            "6\n",
            "7\n",
            "8\n",
            "9\n"
          ]
        }
      ]
    },
    {
      "cell_type": "markdown",
      "source": [
        "Get a list of the numbers from 0 to 10"
      ],
      "metadata": {
        "id": "3OtHChIteYGi"
      }
    },
    {
      "cell_type": "code",
      "source": [
        "[x for x in range(0,10)]"
      ],
      "metadata": {
        "colab": {
          "base_uri": "https://localhost:8080/"
        },
        "id": "HYOLkZTbeXKH",
        "outputId": "8bacabc3-3ab9-435c-c3d0-d89dc8bd7952"
      },
      "execution_count": null,
      "outputs": [
        {
          "output_type": "execute_result",
          "data": {
            "text/plain": [
              "[0, 1, 2, 3, 4, 5, 6, 7, 8, 9]"
            ]
          },
          "metadata": {},
          "execution_count": 58
        }
      ]
    },
    {
      "cell_type": "markdown",
      "source": [
        "zip(): iterate through multiple lists paralelly!\n"
      ],
      "metadata": {
        "id": "tkMI_CF7yaXh"
      }
    },
    {
      "cell_type": "code",
      "source": [
        "letters=[letter for letter in 'abcdefgh']\n",
        "numbers=[0,1,2,3,4,5,6,7]\n",
        "for letter,number in zip(letters,numbers):\n",
        "  print(letter, number)"
      ],
      "metadata": {
        "colab": {
          "base_uri": "https://localhost:8080/"
        },
        "id": "86hpYEAayMG_",
        "outputId": "bd1327cf-8747-47d1-def5-840fe945eb4b"
      },
      "execution_count": null,
      "outputs": [
        {
          "output_type": "stream",
          "name": "stdout",
          "text": [
            "a 0\n",
            "b 1\n",
            "c 2\n",
            "d 3\n",
            "e 4\n",
            "f 5\n",
            "g 6\n",
            "h 7\n"
          ]
        }
      ]
    },
    {
      "cell_type": "markdown",
      "source": [
        "Create a list of the letters of this string: 'this is not a long sentence'\n",
        "\n",
        "\n",
        "Create another list containing numbers from 1 to the length of the sentence\n",
        "\n",
        "\n",
        "Iterate through the two lists at the same time and print each letter and which place it is on in the sentence.\n",
        "\n",
        "\n",
        "E.g.: 1 t, 2 h, 3 i ..."
      ],
      "metadata": {
        "id": "XoszKZKFVwqN"
      }
    },
    {
      "cell_type": "markdown",
      "source": [],
      "metadata": {
        "id": "RPHVwcOmV-HF"
      }
    },
    {
      "cell_type": "markdown",
      "source": [
        "##Write the content of a chosen list (that you created previously in this lesson) in a txt file!"
      ],
      "metadata": {
        "id": "KWEEUiGzSvaY"
      }
    },
    {
      "cell_type": "code",
      "source": [
        "#Recommended way to do it:"
      ],
      "metadata": {
        "id": "140ZHIM_S-c6"
      },
      "execution_count": null,
      "outputs": []
    },
    {
      "cell_type": "code",
      "source": [
        "!touch abc.txt"
      ],
      "metadata": {
        "id": "Y5A2LneiTNUh"
      },
      "execution_count": null,
      "outputs": []
    },
    {
      "cell_type": "code",
      "source": [
        "#  if you open a file, pay attention to close it as well!\n",
        "# with this syntax \"with open....\" it closes the file automatically"
      ],
      "metadata": {
        "id": "bne5AV4aUDbo"
      },
      "execution_count": null,
      "outputs": []
    },
    {
      "cell_type": "code",
      "source": [
        "with open ('abc.txt', 'w') as f: # 'w' : write\n",
        "  f.write('hi!')"
      ],
      "metadata": {
        "id": "B4aoSaSYTZbo"
      },
      "execution_count": null,
      "outputs": []
    },
    {
      "cell_type": "code",
      "source": [
        "with open ('abc.txt', 'w') as f:\n",
        "  f.write('hello!') #pay attention! in this case it overwrites the content of the file"
      ],
      "metadata": {
        "id": "xEi2LMqrTj0C"
      },
      "execution_count": null,
      "outputs": []
    },
    {
      "cell_type": "code",
      "source": [
        "#instead:\n",
        "with open('abc.txt', 'a') as f: #   'a' = append\n",
        "  f.write('hey!')"
      ],
      "metadata": {
        "id": "RyKP5tjGT8Zt"
      },
      "execution_count": null,
      "outputs": []
    },
    {
      "cell_type": "code",
      "source": [
        "with open('abc.txt', 'a') as f:\n",
        "  f.write('\\nhey!')   #pay attention to create a new line! \"\\n\""
      ],
      "metadata": {
        "id": "AEJtx1kuUaQ8"
      },
      "execution_count": null,
      "outputs": []
    },
    {
      "cell_type": "markdown",
      "source": [
        "Upload the file to your GitHub repo, and upload it to your GitHub-mate's repo!\n"
      ],
      "metadata": {
        "id": "G5RBKp50Ux48"
      }
    }
  ]
}